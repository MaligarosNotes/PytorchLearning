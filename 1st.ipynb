{
 "cells": [
  {
   "cell_type": "code",
   "execution_count": 2,
   "metadata": {},
   "outputs": [
    {
     "data": {
      "text/plain": [
       "True"
      ]
     },
     "execution_count": 2,
     "metadata": {},
     "output_type": "execute_result"
    }
   ],
   "source": [
    "import torch\n",
    "import torch.nn as nn\n",
    "import pandas\n",
    "import yfinance\n",
    "import numpy\n",
    "import matplotlib\n",
    "import requests\n",
    "torch.cuda.is_available()"
   ]
  },
  {
   "cell_type": "code",
   "execution_count": 9,
   "metadata": {},
   "outputs": [],
   "source": [
    "\n",
    "def eyesight(position,number):\n",
    "    horizontal_eyesight = []\n",
    "    vertical_eyesight = []\n",
    "    diagonal_eyesight = []\n",
    "    board_size = number*number - 1\n",
    "    for i in range(number):\n",
    "        if (position + i) % number > position % number:\n",
    "            horizontal_eyesight.append(position + i)\n",
    "        if (position - i) % number <= position % number:\n",
    "            horizontal_eyesight.append(position - i)\n",
    "        if position + i*number <= board_size:\n",
    "            vertical_eyesight.append(position + i*number)\n",
    "        if position - i*number >= 0:\n",
    "            vertical_eyesight.append(position - i*number)\n",
    "        if (position + i*number + i) % number > position % number:\n",
    "            diagonal_eyesight.append(position + i*number + i)\n",
    "        if (position + i*number - i) % number < position % number:\n",
    "            diagonal_eyesight.append(position + i*number - i)\n",
    "        if (position - i*number + i) % number > position % number:\n",
    "            diagonal_eyesight.append(position - i*number + i)\n",
    "        if (position - i*number - i) % number < position % number:\n",
    "            diagonal_eyesight.append(position - i*number - i)\n",
    "\n",
    "    eyesight = horizontal_eyesight + vertical_eyesight + diagonal_eyesight\n",
    "    eyesight = list(dict.fromkeys(eyesight))\n",
    "    eyesight = [x for x in eyesight if x >= 0 and x <= board_size]\n",
    "    return sorted(eyesight)\n",
    "\n",
    "\n",
    "def valid_queens(width,max_vision,iter_position,final_list = []):\n",
    "\n",
    "    board = width**2\n",
    "    vision = eyesight(iter_position,width)\n",
    "    available = list(set(max_vision) - set(vision))\n",
    "    if len(available) == 0:\n",
    "        return final_list\n",
    "    else:\n",
    "        final_list.append(iter_position)\n",
    "        valid_queens(width,available,available[0],final_list)\n",
    "\n",
    "n= 4\n",
    "max_vision = []\n",
    "for i in range(n**2):\n",
    "    max_vision.append(i)\n",
    "valid_queens(n,max_vision,0)\n"
   ]
  },
  {
   "cell_type": "code",
   "execution_count": 20,
   "metadata": {},
   "outputs": [
    {
     "name": "stdout",
     "output_type": "stream",
     "text": [
      "7\n",
      "9\n",
      "7\n",
      "7\n",
      "9\n",
      "7\n",
      "7\n",
      "8\n",
      "7\n"
     ]
    }
   ],
   "source": [
    "def eyesight(position,width):\n",
    "    eyesight = []\n",
    "    board_size = width**2 - 1\n",
    "    for i in range(width):  \n",
    "        if position[0] + i < width:\n",
    "            eyesight.append((position[0] + i,position[1]))\n",
    "        if position[0] - i >= 0:\n",
    "            eyesight.append((position[0] - i,position[1]))\n",
    "        if position[1] + i < width:\n",
    "            eyesight.append((position[0],position[1] + i))\n",
    "        if position[1] - i >= 0:\n",
    "            eyesight.append((position[0],position[1] - i))\n",
    "        if position[0] + i < width and position[1] + 1 < width:\n",
    "            eyesight.append((position[0] + i,position[1] + i))\n",
    "        if position[0] - i >= 0 and position[1] - 1 >= 0:\n",
    "            eyesight.append((position[0] - i,position[1] - i))\n",
    "        if position[0] + i < width and position[1] - 1 >= 0:\n",
    "            eyesight.append((position[0] + i,position[1] - i))\n",
    "        if position[0] - i >= 0 and position[1] + i < width:\n",
    "            eyesight.append((position[0] - i,position[1] + i))\n",
    "    eyesight = list(dict.fromkeys(eyesight))\n",
    "    return sorted(eyesight)\n",
    "\n",
    "for i in range(3):\n",
    "    for j in range(3):\n",
    "        print(len(eyesight((i,j),3)))\n"
   ]
  }
 ],
 "metadata": {
  "kernelspec": {
   "display_name": ".venv",
   "language": "python",
   "name": "python3"
  },
  "language_info": {
   "codemirror_mode": {
    "name": "ipython",
    "version": 3
   },
   "file_extension": ".py",
   "mimetype": "text/x-python",
   "name": "python",
   "nbconvert_exporter": "python",
   "pygments_lexer": "ipython3",
   "version": "3.12.8"
  }
 },
 "nbformat": 4,
 "nbformat_minor": 2
}
